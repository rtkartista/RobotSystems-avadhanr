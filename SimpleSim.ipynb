{
  "nbformat": 4,
  "nbformat_minor": 0,
  "metadata": {
    "colab": {
      "provenance": [],
      "authorship_tag": "ABX9TyM22zUm8Js6cEzjW+KWi2iS",
      "include_colab_link": true
    },
    "kernelspec": {
      "name": "python3",
      "display_name": "Python 3"
    },
    "language_info": {
      "name": "python"
    }
  },
  "cells": [
    {
      "cell_type": "markdown",
      "metadata": {
        "id": "view-in-github",
        "colab_type": "text"
      },
      "source": [
        "<a href=\"https://colab.research.google.com/github/rtkartista/RobotSystems-avadhanr/blob/master/SimpleSim.ipynb\" target=\"_parent\"><img src=\"https://colab.research.google.com/assets/colab-badge.svg\" alt=\"Open In Colab\"/></a>"
      ]
    },
    {
      "cell_type": "markdown",
      "source": [
        "\n",
        "\n",
        "```\n",
        "# This is formatted as code\n",
        "```\n",
        "\n"
      ],
      "metadata": {
        "id": "ycJtriQFR08Y"
      }
    },
    {
      "cell_type": "code",
      "source": [
        "from google.colab import drive\n",
        "drive.mount('/content/drive')"
      ],
      "metadata": {
        "id": "ywKfjvL5Sm_L"
      },
      "execution_count": null,
      "outputs": []
    },
    {
      "cell_type": "code",
      "execution_count": 7,
      "metadata": {
        "colab": {
          "base_uri": "https://localhost:8080/",
          "height": 435
        },
        "id": "JZeMDYUwQ5xb",
        "outputId": "84e2dfa7-9c4d-4ec0-9591-db554bb873d0"
      },
      "outputs": [
        {
          "output_type": "display_data",
          "data": {
            "text/plain": [
              "<Figure size 640x480 with 1 Axes>"
            ],
            "image/png": "[encoded data removed]"
          },
          "metadata": {}
        }
      ],
      "source": [
        "import numpy as np\n",
        "import pdb\n",
        "\n",
        "import math\n",
        "import matplotlib.pyplot as plt\n",
        "import matplotlib.animation as animation\n",
        "from matplotlib.patches import Rectangle\n",
        "from matplotlib.transforms import Affine2D\n",
        "\n",
        "class CarAnimator:\n",
        "    def __init__(self, model, dt=0.1, frames=200, output_filename=\"output\"):\n",
        "        self.filename = output_filename\n",
        "        self.model = model\n",
        "        self.dt = dt\n",
        "        self.frames = frames\n",
        "\n",
        "        self.fig, self.ax = plt.subplots()\n",
        "        self.ax.set_aspect('equal')\n",
        "        self.ax.set_xlim(-30, 30)\n",
        "        self.ax.set_ylim(-30, 30)\n",
        "        self.ax.grid(True)\n",
        "\n",
        "        self.path_x = []\n",
        "        self.path_y = []\n",
        "\n",
        "        (self.trail_line,) = self.ax.plot([], [], 'r--', linewidth=1, zorder=5)  # red dashed trail\n",
        "\n",
        "\n",
        "        # Add rectangle instead of image\n",
        "        self.car_length = 2.0\n",
        "        self.car_width = 1.0\n",
        "        self.image_artist = Rectangle(\n",
        "            (-self.car_length / 2, -self.car_width / 2),\n",
        "            self.car_length,\n",
        "            self.car_width,\n",
        "            color='blue',\n",
        "            zorder=10\n",
        "        )\n",
        "        self.ax.add_patch(self.image_artist)\n",
        "\n",
        "    def animate(self, frame):\n",
        "        self.model.update(a=0.05, delta=math.radians(15), dt=self.dt)\n",
        "        x, y, theta, v = self.model.state()\n",
        "\n",
        "        transform = Affine2D().rotate(theta).translate(x, y) + self.ax.transData\n",
        "        self.image_artist.set_transform(transform)\n",
        "\n",
        "        # Add to path history\n",
        "        self.path_x.append(x)\n",
        "        self.path_y.append(y)\n",
        "        self.trail_line.set_data(self.path_x, self.path_y)\n",
        "\n",
        "        return self.image_artist, self.trail_line\n",
        "\n",
        "\n",
        "    def start(self):\n",
        "        ani = animation.FuncAnimation(\n",
        "            self.fig,\n",
        "            self.animate,\n",
        "            frames=self.frames,\n",
        "            interval=int(self.dt * 1000),\n",
        "        )\n",
        "        ani.save(self.filename + \".mp4\", fps=10)\n",
        "        ani.save(self.filename + \".gif\", fps=10)\n",
        "        plt.show()\n",
        "\n",
        "# Define the Kinematic Bicycle Model using OOP\n",
        "class KinematicBicycleModel:\n",
        "    def __init__(self, x=0.0, y=0.0, theta=0.0, v=0.0, L=2.5):\n",
        "        \"\"\"\n",
        "        Initialize the model.\n",
        "        x, y: initial position\n",
        "        theta: initial heading (in radians)\n",
        "        v: initial speed\n",
        "        L: wheelbase length\n",
        "        \"\"\"\n",
        "        self.x = x\n",
        "        self.y = y\n",
        "        self.theta = theta\n",
        "        self.v = v\n",
        "        self.L = L\n",
        "\n",
        "    def update(self, a, delta, dt):\n",
        "        \"\"\"\n",
        "        Update the vehicle's state.\n",
        "        a: acceleration\n",
        "        delta: steering angle (in radians)\n",
        "        dt: time step\n",
        "        \"\"\"\n",
        "        self.x += self.v * np.cos(self.theta) * dt\n",
        "        self.y += self.v * np.sin(self.theta) * dt\n",
        "        self.theta += (self.v / self.L) * np.tan(delta) * dt\n",
        "        self.v += a * dt\n",
        "\n",
        "    def state(self):\n",
        "        return self.x, self.y, self.theta, self.v\n",
        "\n",
        "if __name__ == \"__main__\":\n",
        "    # Simulate and plot the trajectory\n",
        "    model = KinematicBicycleModel(x=0, y=0, theta=np.radians(0), v=2.0)\n",
        "\n",
        "    # Plotting the trajectory\n",
        "    animator = CarAnimator(model)\n",
        "    animator.start()\n"
      ]
    }
  ]
}